{
 "cells": [
  {
   "cell_type": "markdown",
   "metadata": {
    "colab_type": "text",
    "id": "7TbN9UXMEzyJ"
   },
   "source": [
    "# Import packages"
   ]
  },
  {
   "cell_type": "code",
   "execution_count": 1,
   "metadata": {
    "colab": {},
    "colab_type": "code",
    "id": "y44uBDeaE5eE"
   },
   "outputs": [
    {
     "name": "stderr",
     "output_type": "stream",
     "text": [
      "Using TensorFlow backend.\n"
     ]
    }
   ],
   "source": [
    "from keras.callbacks import Callback\n",
    "from keras.layers import Dense, Input, Dropout, BatchNormalization, Activation\n",
    "from keras.models import Model\n",
    "from keras.optimizers import Adam, Nadam\n",
    "from keras.utils.generic_utils import get_custom_objects\n",
    "from sklearn.metrics import roc_auc_score\n",
    "\n",
    "import keras\n",
    "import keras.backend as K\n",
    "import numpy as np\n",
    "import pandas as pd\n",
    "import random\n",
    "import tensorflow as tf\n",
    "import warnings\n",
    "warnings.filterwarnings(\"ignore\")\n",
    "\n",
    "import dataproc\n",
    "\n",
    "np.random.seed(42) # NumPy\n",
    "random.seed(42) # Python\n",
    "tf.set_random_seed(42) # Tensorflow"
   ]
  },
  {
   "cell_type": "markdown",
   "metadata": {
    "colab_type": "text",
    "id": "nYZu6LjdHZeQ"
   },
   "source": [
    "# Data Loading"
   ]
  },
  {
   "cell_type": "code",
   "execution_count": 2,
   "metadata": {},
   "outputs": [
    {
     "name": "stdout",
     "output_type": "stream",
     "text": [
      "Index(['TransactionID', 'isFraud', 'TransactionDT', 'TransactionAmt', 'dist1',\n",
      "       'dist2', 'C1', 'C2', 'C3', 'C4',\n",
      "       ...\n",
      "       '426', '427', '428', '429', '430', '431', '432', '433', '434', '435'],\n",
      "      dtype='object', length=506)\n"
     ]
    }
   ],
   "source": [
    "X_tr, X_val, X_test, y_tr, y_val, sub = dataproc.main()"
   ]
  },
  {
   "cell_type": "markdown",
   "metadata": {
    "colab_type": "text",
    "id": "VJ5_AqRJ6wWg"
   },
   "source": [
    "# Modeling"
   ]
  },
  {
   "cell_type": "code",
   "execution_count": 3,
   "metadata": {
    "colab": {
     "base_uri": "https://localhost:8080/",
     "height": 71
    },
    "colab_type": "code",
    "executionInfo": {
     "elapsed": 235279,
     "status": "ok",
     "timestamp": 1571194095858,
     "user": {
      "displayName": "merylljv08",
      "photoUrl": "",
      "userId": "02176225216062102750"
     },
     "user_tz": -480
    },
    "id": "FdLXAM_06wWi",
    "outputId": "0ce6a38b-6881-404c-80f3-ae7a77ea6e0e"
   },
   "outputs": [
    {
     "name": "stderr",
     "output_type": "stream",
     "text": [
      "WARNING: Logging before flag parsing goes to stderr.\n",
      "W1018 16:30:41.063925 19892 deprecation_wrapper.py:119] From C:\\ProgramData\\Anaconda3\\lib\\site-packages\\keras\\backend\\tensorflow_backend.py:74: The name tf.get_default_graph is deprecated. Please use tf.compat.v1.get_default_graph instead.\n",
      "\n"
     ]
    }
   ],
   "source": [
    "# Compatible with tensorflow backend\n",
    "class roc_callback(Callback):\n",
    "    def __init__(self,training_data,validation_data):\n",
    "        self.x = training_data[0]\n",
    "        self.y = training_data[1]\n",
    "        self.x_val = validation_data[0]\n",
    "        self.y_val = validation_data[1]\n",
    "\n",
    "\n",
    "    def on_train_begin(self, logs={}):\n",
    "        return\n",
    "\n",
    "    def on_train_end(self, logs={}):\n",
    "        return\n",
    "\n",
    "    def on_epoch_begin(self, epoch, logs={}):\n",
    "        return\n",
    "\n",
    "    def on_epoch_end(self, epoch, logs={}):\n",
    "        y_pred_val = self.model.predict(self.x_val)\n",
    "        roc_val = roc_auc_score(self.y_val, y_pred_val)\n",
    "        print('\\rroc-auc_val: %s' % (str(round(roc_val,4))),end=100*' '+'\\n')\n",
    "        return\n",
    "\n",
    "    def on_batch_begin(self, batch, logs={}):\n",
    "        return\n",
    "\n",
    "    def on_batch_end(self, batch, logs={}):\n",
    "        return\n",
    "    \n",
    "def focal_loss(gamma=2., alpha=.25):\n",
    "    def focal_loss_fixed(y_true, y_pred):\n",
    "        pt_1 = tf.where(tf.equal(y_true, 1), y_pred, tf.ones_like(y_pred))\n",
    "        pt_0 = tf.where(tf.equal(y_true, 0), y_pred, tf.zeros_like(y_pred))\n",
    "        return -K.mean(alpha * K.pow(1. - pt_1, gamma) * K.log(K.epsilon()+pt_1))-K.mean((1-alpha) * K.pow( pt_0, gamma) * K.log(1. - pt_0 + K.epsilon()))\n",
    "    return focal_loss_fixed\n",
    "\n",
    "def custom_gelu(x):\n",
    "    return 0.5 * x * (1 + tf.tanh(tf.sqrt(2 / np.pi) * (x + 0.044715 * tf.pow(x, 3))))\n",
    "\n",
    "get_custom_objects().update({'custom_gelu': Activation(custom_gelu)})\n",
    "get_custom_objects().update({'focal_loss_fn': focal_loss()})"
   ]
  },
  {
   "cell_type": "code",
   "execution_count": 4,
   "metadata": {
    "colab": {},
    "colab_type": "code",
    "id": "vWtq8myh6wWk"
   },
   "outputs": [],
   "source": [
    "def create_model(loss_fn):\n",
    "    inps = Input(shape=(X_tr.shape[1],))\n",
    "    x = Dense(512, activation=custom_gelu)(inps)\n",
    "    x = BatchNormalization()(x)\n",
    "    x = Dropout(0.3)(x)\n",
    "    x = Dense(256, activation=custom_gelu)(x)\n",
    "    x = BatchNormalization()(x)\n",
    "    x = Dropout(0.2)(x)\n",
    "    x = Dense(1, activation='sigmoid')(x)\n",
    "    model = Model(inputs=inps, outputs=x)\n",
    "    model.compile(\n",
    "        optimizer=Nadam(),\n",
    "        loss=[loss_fn]\n",
    "    )\n",
    "    #model.summary()\n",
    "    return model"
   ]
  },
  {
   "cell_type": "code",
   "execution_count": 5,
   "metadata": {
    "colab": {
     "base_uri": "https://localhost:8080/",
     "height": 309
    },
    "colab_type": "code",
    "executionInfo": {
     "elapsed": 235911,
     "status": "ok",
     "timestamp": 1571194096500,
     "user": {
      "displayName": "merylljv08",
      "photoUrl": "",
      "userId": "02176225216062102750"
     },
     "user_tz": -480
    },
    "id": "Wy6oWgNK6wWm",
    "outputId": "533da30f-cfa3-4770-d62e-3ce1b53247bb"
   },
   "outputs": [
    {
     "name": "stderr",
     "output_type": "stream",
     "text": [
      "W1018 16:30:41.104925 19892 deprecation_wrapper.py:119] From C:\\ProgramData\\Anaconda3\\lib\\site-packages\\keras\\backend\\tensorflow_backend.py:517: The name tf.placeholder is deprecated. Please use tf.compat.v1.placeholder instead.\n",
      "\n",
      "W1018 16:30:41.176961 19892 deprecation_wrapper.py:119] From C:\\ProgramData\\Anaconda3\\lib\\site-packages\\keras\\backend\\tensorflow_backend.py:4138: The name tf.random_uniform is deprecated. Please use tf.random.uniform instead.\n",
      "\n",
      "W1018 16:30:41.400161 19892 deprecation_wrapper.py:119] From C:\\ProgramData\\Anaconda3\\lib\\site-packages\\keras\\backend\\tensorflow_backend.py:133: The name tf.placeholder_with_default is deprecated. Please use tf.compat.v1.placeholder_with_default instead.\n",
      "\n",
      "W1018 16:30:41.437377 19892 deprecation.py:506] From C:\\ProgramData\\Anaconda3\\lib\\site-packages\\keras\\backend\\tensorflow_backend.py:3445: calling dropout (from tensorflow.python.ops.nn_ops) with keep_prob is deprecated and will be removed in a future version.\n",
      "Instructions for updating:\n",
      "Please use `rate` instead of `keep_prob`. Rate should be set to `rate = 1 - keep_prob`.\n",
      "W1018 16:30:41.641705 19892 deprecation_wrapper.py:119] From C:\\ProgramData\\Anaconda3\\lib\\site-packages\\keras\\optimizers.py:790: The name tf.train.Optimizer is deprecated. Please use tf.compat.v1.train.Optimizer instead.\n",
      "\n",
      "W1018 16:30:41.653311 19892 deprecation.py:323] From <ipython-input-3-69d84efadb93>:33: add_dispatch_support.<locals>.wrapper (from tensorflow.python.ops.array_ops) is deprecated and will be removed in a future version.\n",
      "Instructions for updating:\n",
      "Use tf.where in 2.0, which has the same broadcast rule as np.where\n",
      "W1018 16:30:41.669312 19892 deprecation_wrapper.py:119] From C:\\ProgramData\\Anaconda3\\lib\\site-packages\\keras\\backend\\tensorflow_backend.py:1521: The name tf.log is deprecated. Please use tf.math.log instead.\n",
      "\n"
     ]
    }
   ],
   "source": [
    "model_focal = create_model('focal_loss_fn')\n",
    "model_bce = create_model('binary_crossentropy')"
   ]
  },
  {
   "cell_type": "code",
   "execution_count": 6,
   "metadata": {
    "colab": {
     "base_uri": "https://localhost:8080/",
     "height": 1000
    },
    "colab_type": "code",
    "executionInfo": {
     "elapsed": 521235,
     "status": "ok",
     "timestamp": 1571194381831,
     "user": {
      "displayName": "merylljv08",
      "photoUrl": "",
      "userId": "02176225216062102750"
     },
     "user_tz": -480
    },
    "id": "doZOPx3r6wWo",
    "outputId": "ed154b05-1145-406c-84ef-37b1ffdb864f"
   },
   "outputs": [
    {
     "name": "stdout",
     "output_type": "stream",
     "text": [
      "Train on 472432 samples, validate on 118108 samples\n",
      "Epoch 1/8\n",
      "472432/472432 [==============================] - 55s 117us/step - loss: 0.2263 - val_loss: 0.1283\n",
      "roc-auc_val: 0.8999                                                                                                    \n",
      "Epoch 2/8\n",
      "472432/472432 [==============================] - 53s 112us/step - loss: 0.1070 - val_loss: 0.0877\n",
      "roc-auc_val: 0.9133                                                                                                    \n",
      "Epoch 3/8\n",
      "472432/472432 [==============================] - 52s 111us/step - loss: 0.0855 - val_loss: 0.0812\n",
      "roc-auc_val: 0.9308                                                                                                    \n",
      "Epoch 4/8\n",
      "472432/472432 [==============================] - 53s 111us/step - loss: 0.0789 - val_loss: 0.0785\n",
      "roc-auc_val: 0.9321                                                                                                    \n",
      "Epoch 5/8\n",
      "472432/472432 [==============================] - 53s 111us/step - loss: 0.0739 - val_loss: 0.1044\n",
      "roc-auc_val: 0.9434                                                                                                    \n",
      "Epoch 6/8\n",
      "472432/472432 [==============================] - 45s 95us/step - loss: 0.0699 - val_loss: 0.0735\n",
      "roc-auc_val: 0.9389                                                                                                    \n",
      "Epoch 7/8\n",
      "472432/472432 [==============================] - 44s 94us/step - loss: 0.0650 - val_loss: 0.0681\n",
      "roc-auc_val: 0.9451                                                                                                    \n",
      "Epoch 8/8\n",
      "472432/472432 [==============================] - 45s 94us/step - loss: 0.0597 - val_loss: 0.0640\n",
      "roc-auc_val: 0.9542                                                                                                    \n",
      "Train on 472432 samples, validate on 118108 samples\n",
      "Epoch 1/8\n",
      "472432/472432 [==============================] - 46s 98us/step - loss: 0.0415 - val_loss: 0.0106\n",
      "roc-auc_val: 0.887                                                                                                    \n",
      "Epoch 2/8\n",
      "472432/472432 [==============================] - 45s 94us/step - loss: 0.0118 - val_loss: 0.0101\n",
      "roc-auc_val: 0.8988                                                                                                    \n",
      "Epoch 3/8\n",
      "472432/472432 [==============================] - 45s 94us/step - loss: 0.0103 - val_loss: 0.0097\n",
      "roc-auc_val: 0.9081                                                                                                    \n",
      "Epoch 4/8\n",
      "472432/472432 [==============================] - 44s 94us/step - loss: 0.0098 - val_loss: 0.0084\n",
      "roc-auc_val: 0.9212                                                                                                    \n",
      "Epoch 5/8\n",
      "472432/472432 [==============================] - 45s 95us/step - loss: 0.0087 - val_loss: 0.0079\n",
      "roc-auc_val: 0.9283                                                                                                    \n",
      "Epoch 6/8\n",
      "472432/472432 [==============================] - 45s 94us/step - loss: 0.0079 - val_loss: 0.0077\n",
      "roc-auc_val: 0.9372                                                                                                    \n",
      "Epoch 7/8\n",
      "472432/472432 [==============================] - 45s 95us/step - loss: 0.0074 - val_loss: 0.0072\n",
      "roc-auc_val: 0.9415                                                                                                    \n",
      "Epoch 8/8\n",
      "472432/472432 [==============================] - 50s 107us/step - loss: 0.0071 - val_loss: 0.0070\n",
      "roc-auc_val: 0.947                                                                                                    \n"
     ]
    },
    {
     "data": {
      "text/plain": [
       "<keras.callbacks.History at 0x1c14e92e908>"
      ]
     },
     "execution_count": 6,
     "metadata": {},
     "output_type": "execute_result"
    }
   ],
   "source": [
    "model_bce.fit(\n",
    "    X_tr, y_tr, epochs=8, batch_size=2048, validation_data=(X_val, y_val), verbose=True, \n",
    "    callbacks=[roc_callback(training_data=(X_val, y_tr), validation_data=(X_val, y_val))]\n",
    ")\n",
    "model_focal.fit(\n",
    "    X_tr, y_tr, epochs=8, batch_size=2048, validation_data=(X_val, y_val), verbose=True, \n",
    "    callbacks=[roc_callback(training_data=(X_val, y_tr), validation_data=(X_val, y_val))]\n",
    ")"
   ]
  },
  {
   "cell_type": "code",
   "execution_count": 7,
   "metadata": {
    "colab": {},
    "colab_type": "code",
    "id": "c86R60J56wWq"
   },
   "outputs": [],
   "source": [
    "val_preds_bce = model_bce.predict(X_val).flatten()\n",
    "val_preds_focal = model_focal.predict(X_val).flatten()"
   ]
  },
  {
   "cell_type": "code",
   "execution_count": 8,
   "metadata": {
    "colab": {
     "base_uri": "https://localhost:8080/",
     "height": 153
    },
    "colab_type": "code",
    "executionInfo": {
     "elapsed": 533168,
     "status": "ok",
     "timestamp": 1571194393775,
     "user": {
      "displayName": "merylljv08",
      "photoUrl": "",
      "userId": "02176225216062102750"
     },
     "user_tz": -480
    },
    "id": "rlVB1Ihr6wWr",
    "outputId": "f7a5da1c-91ec-43d6-8e20-fbd0ce268cc8"
   },
   "outputs": [
    {
     "name": "stdout",
     "output_type": "stream",
     "text": [
      "BCE preds:  0.9541750763672989\n",
      "Focal preds:  0.9470325728333012\n",
      "Correlation matrix: \n",
      "[[1.        0.8336067]\n",
      " [0.8336067 1.       ]]\n",
      "Spearman's correlation:  0.7964576326377572\n",
      "Averaging:  0.9541475961143868\n",
      "Rank averaging:  0.9553572562065871\n"
     ]
    }
   ],
   "source": [
    "from scipy.stats import rankdata, spearmanr\n",
    "\n",
    "print('BCE preds: ', roc_auc_score(y_val, val_preds_bce))\n",
    "print('Focal preds: ',roc_auc_score(y_val, val_preds_focal))\n",
    "print('Correlation matrix: ')\n",
    "print(np.corrcoef(val_preds_bce, val_preds_focal))\n",
    "print(\"Spearman's correlation: \", spearmanr(val_preds_bce, val_preds_focal).correlation)\n",
    "print('Averaging: ', roc_auc_score(y_val, val_preds_bce + val_preds_focal))\n",
    "print('Rank averaging: ', roc_auc_score(y_val, rankdata(val_preds_bce, method='dense') + rankdata(val_preds_focal, method='dense')))"
   ]
  },
  {
   "cell_type": "markdown",
   "metadata": {
    "colab_type": "text",
    "id": "VPupKSUa6wWv"
   },
   "source": [
    "# Predicting"
   ]
  },
  {
   "cell_type": "code",
   "execution_count": 9,
   "metadata": {
    "colab": {
     "base_uri": "https://localhost:8080/",
     "height": 170
    },
    "colab_type": "code",
    "executionInfo": {
     "elapsed": 545957,
     "status": "ok",
     "timestamp": 1571194406576,
     "user": {
      "displayName": "merylljv08",
      "photoUrl": "",
      "userId": "02176225216062102750"
     },
     "user_tz": -480
    },
    "id": "4IpjWluW6wWv",
    "outputId": "09757d2e-3c24-4c81-ae7a-52b07e750aea"
   },
   "outputs": [
    {
     "name": "stdout",
     "output_type": "stream",
     "text": [
      "Epoch 1/2\n",
      "118108/118108 [==============================] - 10s 87us/step - loss: 0.0697\n",
      "Epoch 2/2\n",
      "118108/118108 [==============================] - 10s 87us/step - loss: 0.0607\n",
      "Epoch 1/2\n",
      "118108/118108 [==============================] - 11s 89us/step - loss: 0.0077\n",
      "Epoch 2/2\n",
      "118108/118108 [==============================] - 11s 94us/step - loss: 0.0071\n"
     ]
    },
    {
     "data": {
      "text/plain": [
       "<keras.callbacks.History at 0x1c1b090deb8>"
      ]
     },
     "execution_count": 9,
     "metadata": {},
     "output_type": "execute_result"
    }
   ],
   "source": [
    "model_bce.fit(X_val, y_val, epochs=2, batch_size=2048, verbose=True)\n",
    "model_focal.fit(X_val, y_val, epochs=2, batch_size=2048, verbose=True)"
   ]
  },
  {
   "cell_type": "code",
   "execution_count": 15,
   "metadata": {
    "colab": {},
    "colab_type": "code",
    "id": "2fhBX4wN6wWz"
   },
   "outputs": [],
   "source": [
    "sub.loc[:, 'isFraud'] = rankdata(model_bce.predict(X_test).flatten(), method='dense') + rankdata(model_focal.predict(X_test).flatten(), method='dense')\n",
    "sub.loc[:, 'isFraud'] = sub.loc[:, 'isFraud']/sub.loc[:, 'isFraud'].max()\n",
    "sub.to_csv('submission.csv')"
   ]
  },
  {
   "cell_type": "code",
   "execution_count": null,
   "metadata": {},
   "outputs": [],
   "source": []
  }
 ],
 "metadata": {
  "accelerator": "GPU",
  "colab": {
   "collapsed_sections": [],
   "name": "KerasNN_fraud_detector.ipynb",
   "provenance": []
  },
  "kernelspec": {
   "display_name": "Python 3",
   "language": "python",
   "name": "python3"
  },
  "language_info": {
   "codemirror_mode": {
    "name": "ipython",
    "version": 3
   },
   "file_extension": ".py",
   "mimetype": "text/x-python",
   "name": "python",
   "nbconvert_exporter": "python",
   "pygments_lexer": "ipython3",
   "version": "3.7.3"
  }
 },
 "nbformat": 4,
 "nbformat_minor": 1
}
